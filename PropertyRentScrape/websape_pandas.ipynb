{
 "cells": [
  {
   "cell_type": "code",
   "execution_count": null,
   "metadata": {},
   "outputs": [],
   "source": [
    "import numpy as np\n",
    "import pandas as pd\n",
    "import matplotlib.pyplot as plt\n",
    "import ast\n",
    "\n",
    "file = open(\"result_22-07-11.txt\", 'r+')\n",
    "data = ast.literal_eval(file.readlines()[0])\n",
    "rent_data = pd.DataFrame.from_dict(data)\n",
    "rent_data = rent_data.transpose()\n",
    "print (rent_data.head())"
   ]
  },
  {
   "cell_type": "code",
   "execution_count": null,
   "metadata": {},
   "outputs": [],
   "source": [
    "location = ['Abijo','Lekki Phase 1','Majek', 'Badore','Agungi','Ologolo','Chevron','Ikota','Abraham Adesanya']\n",
    "loc =['Lekki', 'Ajah']\n",
    "\n",
    "add = 'John Okafor Estate, Agungi, Lekki, Lagos' \n",
    "\n",
    "\n",
    "for add in add.split(','):\n",
    "    if add.strip() in location:\n",
    "        print(add)\n",
    "        break\n",
    "    elif add.strip() in loc:\n",
    "        print('location not shown')\n",
    "        print(add + ' seen in address')\n",
    "    # else:\n",
    "    #     print('null')\n",
    "\n"
   ]
  },
  {
   "cell_type": "code",
   "execution_count": null,
   "metadata": {},
   "outputs": [],
   "source": [
    "rent_data.columns"
   ]
  },
  {
   "cell_type": "code",
   "execution_count": null,
   "metadata": {},
   "outputs": [],
   "source": [
    "loc_list = []\n",
    "for address in rent_data['location']:\n",
    "    for add in address.split(','):\n",
    "        if add.strip() in location:\n",
    "            loc_list.append(add.strip())\n",
    "            break\n",
    "        elif add.strip() in loc:\n",
    "            loc_list.append(add.strip())\n",
    "rent_data['loc_spec'] = loc_list"
   ]
  },
  {
   "cell_type": "code",
   "execution_count": null,
   "metadata": {},
   "outputs": [],
   "source": [
    "len(rent_data)"
   ]
  },
  {
   "cell_type": "code",
   "execution_count": null,
   "metadata": {},
   "outputs": [],
   "source": [
    "len(loc_list)"
   ]
  },
  {
   "cell_type": "code",
   "execution_count": null,
   "metadata": {},
   "outputs": [],
   "source": [
    "def ext_loc(ad):\n",
    "    for address in ad:\n",
    "        for add in address.split(','):\n",
    "            if add.strip() in location:\n",
    "                return add.strip()\n",
    "                break\n",
    "            elif add.strip() in loc:\n",
    "                return add.strip()\n",
    "# rent_data['loc_spec'] = loc_list\n",
    "\n",
    "rent_data['test'] = rent_data['location'].apply(ext_loc,axis=1)"
   ]
  },
  {
   "cell_type": "code",
   "execution_count": null,
   "metadata": {},
   "outputs": [],
   "source": [
    "rent_data.head()"
   ]
  }
 ],
 "metadata": {
  "kernelspec": {
   "display_name": "Python 3.9.12 ('base')",
   "language": "python",
   "name": "python3"
  },
  "language_info": {
   "codemirror_mode": {
    "name": "ipython",
    "version": 3
   },
   "file_extension": ".py",
   "mimetype": "text/x-python",
   "name": "python",
   "nbconvert_exporter": "python",
   "pygments_lexer": "ipython3",
   "version": "3.9.12"
  },
  "orig_nbformat": 4,
  "vscode": {
   "interpreter": {
    "hash": "53b9acdd54ac879a551304c815d5656c3a1d5d5cc610a256e6098324c699f771"
   }
  }
 },
 "nbformat": 4,
 "nbformat_minor": 2
}
