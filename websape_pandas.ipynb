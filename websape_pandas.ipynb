{
 "cells": [
  {
   "cell_type": "code",
   "execution_count": 1,
   "metadata": {},
   "outputs": [
    {
     "name": "stdout",
     "output_type": "stream",
     "text": [
      "                                                location   price  \\\n",
      "1369254                Kusenla Road, Ikate, Lekki, Lagos  200000   \n",
      "1361055           Ikota Vila Estate, Ikota, Lekki, Lagos  450000   \n",
      "1363108   Majek, Opposite Fara-park, Abijo, Lekki, Lagos  500000   \n",
      "11361508                     Lekki Phase 1, Lekki, Lagos  400000   \n",
      "1361356             Majek, Bashorun, Abijo, Lekki, Lagos  600000   \n",
      "\n",
      "                                                       link features  \n",
      "1369254   https://nigeriapropertycentre.com//for-rent/fl...           \n",
      "1361055   https://nigeriapropertycentre.com//for-rent/fl...  kitchen  \n",
      "1363108   https://nigeriapropertycentre.com//for-rent/fl...           \n",
      "11361508  https://nigeriapropertycentre.com//for-rent/fl...           \n",
      "1361356   https://nigeriapropertycentre.com//for-rent/fl...           \n"
     ]
    }
   ],
   "source": [
    "import numpy as np\n",
    "import pandas as pd\n",
    "import matplotlib.pyplot as plt\n",
    "import ast\n",
    "\n",
    "file = open(\"result_22-06-28.txt\", 'r+')\n",
    "data = ast.literal_eval(file.readlines()[0])\n",
    "rent_data = pd.DataFrame.from_dict(data)\n",
    "rent_data = rent_data.transpose()\n",
    "print (rent_data.head())"
   ]
  },
  {
   "cell_type": "code",
   "execution_count": 28,
   "metadata": {},
   "outputs": [
    {
     "name": "stdout",
     "output_type": "stream",
     "text": [
      " Agungi\n"
     ]
    }
   ],
   "source": [
    "location = ['Abijo','Lekki Phase 1','Majek', 'Badore','Agungi','Ologolo','Chevron','Ikota','Abraham Adesanya']\n",
    "loc =['Lekki', 'Ajah']\n",
    "\n",
    "add = 'John Okafor Estate, Agungi, Lekki, Lagos' \n",
    "\n",
    "\n",
    "for add in add.split(','):\n",
    "    if add.strip() in location:\n",
    "        print(add)\n",
    "        break\n",
    "    elif add.strip() in loc:\n",
    "        print('location not shown')\n",
    "        print(add + ' seen in address')\n",
    "    # else:\n",
    "    #     print('null')\n",
    "\n"
   ]
  },
  {
   "cell_type": "code",
   "execution_count": 29,
   "metadata": {},
   "outputs": [
    {
     "data": {
      "text/plain": [
       "Index(['location', 'price', 'link', 'features'], dtype='object')"
      ]
     },
     "execution_count": 29,
     "metadata": {},
     "output_type": "execute_result"
    }
   ],
   "source": [
    "rent_data.columns"
   ]
  },
  {
   "cell_type": "code",
   "execution_count": 47,
   "metadata": {},
   "outputs": [
    {
     "ename": "ValueError",
     "evalue": "Length of values (58) does not match length of index (57)",
     "output_type": "error",
     "traceback": [
      "\u001b[1;31m---------------------------------------------------------------------------\u001b[0m",
      "\u001b[1;31mValueError\u001b[0m                                Traceback (most recent call last)",
      "\u001b[1;32mc:\\Users\\p9428\\Documents\\Python Scripts\\websape_pandas.ipynb Cell 4'\u001b[0m in \u001b[0;36m<cell line: 9>\u001b[1;34m()\u001b[0m\n\u001b[0;32m      <a href='vscode-notebook-cell:/c%3A/Users/p9428/Documents/Python%20Scripts/websape_pandas.ipynb#ch0000006?line=6'>7</a>\u001b[0m         \u001b[39melif\u001b[39;00m add\u001b[39m.\u001b[39mstrip() \u001b[39min\u001b[39;00m loc:\n\u001b[0;32m      <a href='vscode-notebook-cell:/c%3A/Users/p9428/Documents/Python%20Scripts/websape_pandas.ipynb#ch0000006?line=7'>8</a>\u001b[0m             loc_list\u001b[39m.\u001b[39mappend(add\u001b[39m.\u001b[39mstrip())\n\u001b[1;32m----> <a href='vscode-notebook-cell:/c%3A/Users/p9428/Documents/Python%20Scripts/websape_pandas.ipynb#ch0000006?line=8'>9</a>\u001b[0m rent_data[\u001b[39m'\u001b[39m\u001b[39mloc_spec\u001b[39m\u001b[39m'\u001b[39m] \u001b[39m=\u001b[39m loc_list\n",
      "File \u001b[1;32mc:\\Users\\p9428\\Anaconda3\\lib\\site-packages\\pandas\\core\\frame.py:3655\u001b[0m, in \u001b[0;36mDataFrame.__setitem__\u001b[1;34m(self, key, value)\u001b[0m\n\u001b[0;32m   3652\u001b[0m     \u001b[39mself\u001b[39m\u001b[39m.\u001b[39m_setitem_array([key], value)\n\u001b[0;32m   3653\u001b[0m \u001b[39melse\u001b[39;00m:\n\u001b[0;32m   3654\u001b[0m     \u001b[39m# set column\u001b[39;00m\n\u001b[1;32m-> 3655\u001b[0m     \u001b[39mself\u001b[39;49m\u001b[39m.\u001b[39;49m_set_item(key, value)\n",
      "File \u001b[1;32mc:\\Users\\p9428\\Anaconda3\\lib\\site-packages\\pandas\\core\\frame.py:3832\u001b[0m, in \u001b[0;36mDataFrame._set_item\u001b[1;34m(self, key, value)\u001b[0m\n\u001b[0;32m   3822\u001b[0m \u001b[39mdef\u001b[39;00m \u001b[39m_set_item\u001b[39m(\u001b[39mself\u001b[39m, key, value) \u001b[39m-\u001b[39m\u001b[39m>\u001b[39m \u001b[39mNone\u001b[39;00m:\n\u001b[0;32m   3823\u001b[0m     \u001b[39m\"\"\"\u001b[39;00m\n\u001b[0;32m   3824\u001b[0m \u001b[39m    Add series to DataFrame in specified column.\u001b[39;00m\n\u001b[0;32m   3825\u001b[0m \n\u001b[1;32m   (...)\u001b[0m\n\u001b[0;32m   3830\u001b[0m \u001b[39m    ensure homogeneity.\u001b[39;00m\n\u001b[0;32m   3831\u001b[0m \u001b[39m    \"\"\"\u001b[39;00m\n\u001b[1;32m-> 3832\u001b[0m     value \u001b[39m=\u001b[39m \u001b[39mself\u001b[39;49m\u001b[39m.\u001b[39;49m_sanitize_column(value)\n\u001b[0;32m   3834\u001b[0m     \u001b[39mif\u001b[39;00m (\n\u001b[0;32m   3835\u001b[0m         key \u001b[39min\u001b[39;00m \u001b[39mself\u001b[39m\u001b[39m.\u001b[39mcolumns\n\u001b[0;32m   3836\u001b[0m         \u001b[39mand\u001b[39;00m value\u001b[39m.\u001b[39mndim \u001b[39m==\u001b[39m \u001b[39m1\u001b[39m\n\u001b[0;32m   3837\u001b[0m         \u001b[39mand\u001b[39;00m \u001b[39mnot\u001b[39;00m is_extension_array_dtype(value)\n\u001b[0;32m   3838\u001b[0m     ):\n\u001b[0;32m   3839\u001b[0m         \u001b[39m# broadcast across multiple columns if necessary\u001b[39;00m\n\u001b[0;32m   3840\u001b[0m         \u001b[39mif\u001b[39;00m \u001b[39mnot\u001b[39;00m \u001b[39mself\u001b[39m\u001b[39m.\u001b[39mcolumns\u001b[39m.\u001b[39mis_unique \u001b[39mor\u001b[39;00m \u001b[39misinstance\u001b[39m(\u001b[39mself\u001b[39m\u001b[39m.\u001b[39mcolumns, MultiIndex):\n",
      "File \u001b[1;32mc:\\Users\\p9428\\Anaconda3\\lib\\site-packages\\pandas\\core\\frame.py:4535\u001b[0m, in \u001b[0;36mDataFrame._sanitize_column\u001b[1;34m(self, value)\u001b[0m\n\u001b[0;32m   4532\u001b[0m     \u001b[39mreturn\u001b[39;00m _reindex_for_setitem(value, \u001b[39mself\u001b[39m\u001b[39m.\u001b[39mindex)\n\u001b[0;32m   4534\u001b[0m \u001b[39mif\u001b[39;00m is_list_like(value):\n\u001b[1;32m-> 4535\u001b[0m     com\u001b[39m.\u001b[39;49mrequire_length_match(value, \u001b[39mself\u001b[39;49m\u001b[39m.\u001b[39;49mindex)\n\u001b[0;32m   4536\u001b[0m \u001b[39mreturn\u001b[39;00m sanitize_array(value, \u001b[39mself\u001b[39m\u001b[39m.\u001b[39mindex, copy\u001b[39m=\u001b[39m\u001b[39mTrue\u001b[39;00m, allow_2d\u001b[39m=\u001b[39m\u001b[39mTrue\u001b[39;00m)\n",
      "File \u001b[1;32mc:\\Users\\p9428\\Anaconda3\\lib\\site-packages\\pandas\\core\\common.py:557\u001b[0m, in \u001b[0;36mrequire_length_match\u001b[1;34m(data, index)\u001b[0m\n\u001b[0;32m    553\u001b[0m \u001b[39m\"\"\"\u001b[39;00m\n\u001b[0;32m    554\u001b[0m \u001b[39mCheck the length of data matches the length of the index.\u001b[39;00m\n\u001b[0;32m    555\u001b[0m \u001b[39m\"\"\"\u001b[39;00m\n\u001b[0;32m    556\u001b[0m \u001b[39mif\u001b[39;00m \u001b[39mlen\u001b[39m(data) \u001b[39m!=\u001b[39m \u001b[39mlen\u001b[39m(index):\n\u001b[1;32m--> 557\u001b[0m     \u001b[39mraise\u001b[39;00m \u001b[39mValueError\u001b[39;00m(\n\u001b[0;32m    558\u001b[0m         \u001b[39m\"\u001b[39m\u001b[39mLength of values \u001b[39m\u001b[39m\"\u001b[39m\n\u001b[0;32m    559\u001b[0m         \u001b[39mf\u001b[39m\u001b[39m\"\u001b[39m\u001b[39m(\u001b[39m\u001b[39m{\u001b[39;00m\u001b[39mlen\u001b[39m(data)\u001b[39m}\u001b[39;00m\u001b[39m) \u001b[39m\u001b[39m\"\u001b[39m\n\u001b[0;32m    560\u001b[0m         \u001b[39m\"\u001b[39m\u001b[39mdoes not match length of index \u001b[39m\u001b[39m\"\u001b[39m\n\u001b[0;32m    561\u001b[0m         \u001b[39mf\u001b[39m\u001b[39m\"\u001b[39m\u001b[39m(\u001b[39m\u001b[39m{\u001b[39;00m\u001b[39mlen\u001b[39m(index)\u001b[39m}\u001b[39;00m\u001b[39m)\u001b[39m\u001b[39m\"\u001b[39m\n\u001b[0;32m    562\u001b[0m     )\n",
      "\u001b[1;31mValueError\u001b[0m: Length of values (58) does not match length of index (57)"
     ]
    }
   ],
   "source": [
    "loc_list = []\n",
    "for address in rent_data['location']:\n",
    "    for add in address.split(','):\n",
    "        if add.strip() in location:\n",
    "            loc_list.append(add.strip())\n",
    "            break\n",
    "        elif add.strip() in loc:\n",
    "            loc_list.append(add.strip())\n",
    "rent_data['loc_spec'] = loc_list"
   ]
  },
  {
   "cell_type": "code",
   "execution_count": 44,
   "metadata": {},
   "outputs": [
    {
     "data": {
      "text/plain": [
       "57"
      ]
     },
     "execution_count": 44,
     "metadata": {},
     "output_type": "execute_result"
    }
   ],
   "source": [
    "len(rent_data)"
   ]
  },
  {
   "cell_type": "code",
   "execution_count": 45,
   "metadata": {},
   "outputs": [
    {
     "data": {
      "text/plain": [
       "58"
      ]
     },
     "execution_count": 45,
     "metadata": {},
     "output_type": "execute_result"
    }
   ],
   "source": [
    "len(loc_list)"
   ]
  },
  {
   "cell_type": "code",
   "execution_count": 49,
   "metadata": {},
   "outputs": [],
   "source": [
    "def ext_loc(ad):\n",
    "    for address in ad:\n",
    "        for add in address.split(','):\n",
    "            if add.strip() in location:\n",
    "                return add.strip()\n",
    "                break\n",
    "            elif add.strip() in loc:\n",
    "                return add.strip()\n",
    "# rent_data['loc_spec'] = loc_list\n",
    "\n",
    "rent_data['test'] = rent_data.apply(lambda address: ext_loc(rent_data['location']), axis=1)"
   ]
  },
  {
   "cell_type": "code",
   "execution_count": 50,
   "metadata": {},
   "outputs": [
    {
     "data": {
      "text/html": [
       "<div>\n",
       "<style scoped>\n",
       "    .dataframe tbody tr th:only-of-type {\n",
       "        vertical-align: middle;\n",
       "    }\n",
       "\n",
       "    .dataframe tbody tr th {\n",
       "        vertical-align: top;\n",
       "    }\n",
       "\n",
       "    .dataframe thead th {\n",
       "        text-align: right;\n",
       "    }\n",
       "</style>\n",
       "<table border=\"1\" class=\"dataframe\">\n",
       "  <thead>\n",
       "    <tr style=\"text-align: right;\">\n",
       "      <th></th>\n",
       "      <th>location</th>\n",
       "      <th>price</th>\n",
       "      <th>link</th>\n",
       "      <th>features</th>\n",
       "      <th>loc_spec</th>\n",
       "      <th>test</th>\n",
       "    </tr>\n",
       "  </thead>\n",
       "  <tbody>\n",
       "    <tr>\n",
       "      <th>1369254</th>\n",
       "      <td>Kusenla Road, Ikate, Lekki, Lagos</td>\n",
       "      <td>200000</td>\n",
       "      <td>https://nigeriapropertycentre.com//for-rent/fl...</td>\n",
       "      <td></td>\n",
       "      <td>Abraham Adesanya</td>\n",
       "      <td>Lekki</td>\n",
       "    </tr>\n",
       "    <tr>\n",
       "      <th>1361055</th>\n",
       "      <td>Ikota Vila Estate, Ikota, Lekki, Lagos</td>\n",
       "      <td>450000</td>\n",
       "      <td>https://nigeriapropertycentre.com//for-rent/fl...</td>\n",
       "      <td>kitchen</td>\n",
       "      <td>Abraham Adesanya</td>\n",
       "      <td>Lekki</td>\n",
       "    </tr>\n",
       "    <tr>\n",
       "      <th>1363108</th>\n",
       "      <td>Majek, Opposite Fara-park, Abijo, Lekki, Lagos</td>\n",
       "      <td>500000</td>\n",
       "      <td>https://nigeriapropertycentre.com//for-rent/fl...</td>\n",
       "      <td></td>\n",
       "      <td>Abraham Adesanya</td>\n",
       "      <td>Lekki</td>\n",
       "    </tr>\n",
       "    <tr>\n",
       "      <th>11361508</th>\n",
       "      <td>Lekki Phase 1, Lekki, Lagos</td>\n",
       "      <td>400000</td>\n",
       "      <td>https://nigeriapropertycentre.com//for-rent/fl...</td>\n",
       "      <td></td>\n",
       "      <td>Abraham Adesanya</td>\n",
       "      <td>Lekki</td>\n",
       "    </tr>\n",
       "    <tr>\n",
       "      <th>1361356</th>\n",
       "      <td>Majek, Bashorun, Abijo, Lekki, Lagos</td>\n",
       "      <td>600000</td>\n",
       "      <td>https://nigeriapropertycentre.com//for-rent/fl...</td>\n",
       "      <td></td>\n",
       "      <td>Abraham Adesanya</td>\n",
       "      <td>Lekki</td>\n",
       "    </tr>\n",
       "  </tbody>\n",
       "</table>\n",
       "</div>"
      ],
      "text/plain": [
       "                                                location   price  \\\n",
       "1369254                Kusenla Road, Ikate, Lekki, Lagos  200000   \n",
       "1361055           Ikota Vila Estate, Ikota, Lekki, Lagos  450000   \n",
       "1363108   Majek, Opposite Fara-park, Abijo, Lekki, Lagos  500000   \n",
       "11361508                     Lekki Phase 1, Lekki, Lagos  400000   \n",
       "1361356             Majek, Bashorun, Abijo, Lekki, Lagos  600000   \n",
       "\n",
       "                                                       link features  \\\n",
       "1369254   https://nigeriapropertycentre.com//for-rent/fl...            \n",
       "1361055   https://nigeriapropertycentre.com//for-rent/fl...  kitchen   \n",
       "1363108   https://nigeriapropertycentre.com//for-rent/fl...            \n",
       "11361508  https://nigeriapropertycentre.com//for-rent/fl...            \n",
       "1361356   https://nigeriapropertycentre.com//for-rent/fl...            \n",
       "\n",
       "                  loc_spec   test  \n",
       "1369254   Abraham Adesanya  Lekki  \n",
       "1361055   Abraham Adesanya  Lekki  \n",
       "1363108   Abraham Adesanya  Lekki  \n",
       "11361508  Abraham Adesanya  Lekki  \n",
       "1361356   Abraham Adesanya  Lekki  "
      ]
     },
     "execution_count": 50,
     "metadata": {},
     "output_type": "execute_result"
    }
   ],
   "source": [
    "rent_data.head()"
   ]
  },
  {
   "cell_type": "code",
   "execution_count": null,
   "metadata": {},
   "outputs": [],
   "source": []
  }
 ],
 "metadata": {
  "kernelspec": {
   "display_name": "Python 3.9.12 ('base')",
   "language": "python",
   "name": "python3"
  },
  "language_info": {
   "codemirror_mode": {
    "name": "ipython",
    "version": 3
   },
   "file_extension": ".py",
   "mimetype": "text/x-python",
   "name": "python",
   "nbconvert_exporter": "python",
   "pygments_lexer": "ipython3",
   "version": "3.9.12"
  },
  "orig_nbformat": 4,
  "vscode": {
   "interpreter": {
    "hash": "5c20480f04cb8969eb1e1aaed105969e51aba5c6bddc15b16d2cb21fab78afbb"
   }
  }
 },
 "nbformat": 4,
 "nbformat_minor": 2
}
