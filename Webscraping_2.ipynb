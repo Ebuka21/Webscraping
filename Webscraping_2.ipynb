{
 "cells": [
  {
   "cell_type": "markdown",
   "source": [
    "### Webscraping script\r\n",
    "\r\n",
    "#### This script will scrape information from https://quotes.toscrape.com/ website\r\n",
    "\r\n",
    "#### Different tasks will be done which will be described in the notebook"
   ],
   "metadata": {}
  },
  {
   "cell_type": "code",
   "execution_count": null,
   "source": [],
   "outputs": [],
   "metadata": {}
  }
 ],
 "metadata": {
  "orig_nbformat": 4,
  "language_info": {
   "name": "python"
  }
 },
 "nbformat": 4,
 "nbformat_minor": 2
}