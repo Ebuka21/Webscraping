{
 "cells": [
  {
   "cell_type": "markdown",
   "source": [
    "### Webscraping script\r\n",
    "\r\n",
    "#### This script will scrape information from https://quotes.toscrape.com/ website\r\n",
    "\r\n",
    "#### Different tasks will be done which will be described in the notebook"
   ],
   "metadata": {}
  },
  {
   "cell_type": "code",
   "execution_count": 89,
   "source": [
    "# import necessary packages\r\n",
    "\r\n",
    "import bs4\r\n",
    "import requests\r\n",
    "import lxml\r\n",
    "import pandas as pd"
   ],
   "outputs": [],
   "metadata": {}
  },
  {
   "cell_type": "markdown",
   "source": [
    "### Obtain unique names of all the authors on the first page"
   ],
   "metadata": {}
  },
  {
   "cell_type": "code",
   "execution_count": 90,
   "source": [
    "# obtain the text from the website and store to be read\r\n",
    "\r\n",
    "url_first = \"https://quotes.toscrape.com/\"\r\n",
    "\r\n",
    "ask = requests.get(url_first)\r\n",
    "\r\n",
    "soup = bs4.BeautifulSoup(ask.text, 'lxml')"
   ],
   "outputs": [],
   "metadata": {}
  },
  {
   "cell_type": "code",
   "execution_count": 91,
   "source": [
    "# obtain author class\r\n",
    "\r\n",
    "author_class = soup.select(\".author\")"
   ],
   "outputs": [],
   "metadata": {}
  },
  {
   "cell_type": "code",
   "execution_count": 92,
   "source": [
    "# extra author names\r\n",
    "\r\n",
    "author_name = []\r\n",
    "\r\n",
    "for name in author_class:\r\n",
    "    author_name.append(name.text)\r\n",
    "\r\n",
    "unique_name = set(author_name)"
   ],
   "outputs": [],
   "metadata": {}
  },
  {
   "cell_type": "markdown",
   "source": [
    "### Create a list of all the quotes on the first page"
   ],
   "metadata": {}
  },
  {
   "cell_type": "code",
   "execution_count": 93,
   "source": [
    "words = soup.select(\".text\")\r\n",
    "quote = []\r\n",
    "\r\n",
    "for word in words:\r\n",
    "    quote.append(word.text)\r\n",
    "\r\n",
    "quote"
   ],
   "outputs": [
    {
     "output_type": "execute_result",
     "data": {
      "text/plain": [
       "['“The world as we have created it is a process of our thinking. It cannot be changed without changing our thinking.”',\n",
       " '“It is our choices, Harry, that show what we truly are, far more than our abilities.”',\n",
       " '“There are only two ways to live your life. One is as though nothing is a miracle. The other is as though everything is a miracle.”',\n",
       " '“The person, be it gentleman or lady, who has not pleasure in a good novel, must be intolerably stupid.”',\n",
       " \"“Imperfection is beauty, madness is genius and it's better to be absolutely ridiculous than absolutely boring.”\",\n",
       " '“Try not to become a man of success. Rather become a man of value.”',\n",
       " '“It is better to be hated for what you are than to be loved for what you are not.”',\n",
       " \"“I have not failed. I've just found 10,000 ways that won't work.”\",\n",
       " \"“A woman is like a tea bag; you never know how strong it is until it's in hot water.”\",\n",
       " '“A day without sunshine is like, you know, night.”']"
      ]
     },
     "metadata": {},
     "execution_count": 93
    }
   ],
   "metadata": {}
  },
  {
   "cell_type": "markdown",
   "source": [
    "### Obtain the top ten tags as mentioned on the page"
   ],
   "metadata": {}
  },
  {
   "cell_type": "code",
   "execution_count": 94,
   "source": [
    "tag = soup.select(\".tag-item\")\r\n",
    "\r\n",
    "for x in range(len(tag)):\r\n",
    "    print(tag[x].a.text)"
   ],
   "outputs": [
    {
     "output_type": "stream",
     "name": "stdout",
     "text": [
      "love\n",
      "inspirational\n",
      "life\n",
      "humor\n",
      "books\n",
      "reading\n",
      "friendship\n",
      "friends\n",
      "truth\n",
      "simile\n"
     ]
    }
   ],
   "metadata": {}
  },
  {
   "cell_type": "markdown",
   "source": [
    "### Loop through all the pages on the website and scrape all the unique authors on the website"
   ],
   "metadata": {}
  },
  {
   "cell_type": "markdown",
   "source": [
    "#### From research all pages that exist and have a quote in them will have the class quote"
   ],
   "metadata": {}
  },
  {
   "cell_type": "code",
   "execution_count": 95,
   "source": [
    "len(soup.select('.quote'))"
   ],
   "outputs": [
    {
     "output_type": "execute_result",
     "data": {
      "text/plain": [
       "10"
      ]
     },
     "metadata": {},
     "execution_count": 95
    }
   ],
   "metadata": {}
  },
  {
   "cell_type": "code",
   "execution_count": 96,
   "source": [
    "\r\n",
    "\r\n",
    "#number variable for looping through the pages\r\n",
    "page_num = 1\r\n",
    "\r\n",
    "exist = True\r\n",
    "\r\n",
    "authors = []\r\n",
    "\r\n",
    "#do a while loop to loop through all pages while quote is true\r\n",
    "while exist:\r\n",
    "    \r\n",
    "    # create a base url \r\n",
    "    base_url = f\"https://quotes.toscrape.com/page/{page_num}/\"\r\n",
    "\r\n",
    "    ask = requests.get(base_url)\r\n",
    "    soup = bs4.BeautifulSoup(ask.text, 'lxml')\r\n",
    "\r\n",
    "    #check if quote class exists or not\r\n",
    "    if len(soup.select('.quote')) != 0:\r\n",
    "\r\n",
    "        authors_class = soup.select(\".author\")\r\n",
    "        for name in authors_class:\r\n",
    "            authors.append(name.text)\r\n",
    "\r\n",
    "        page_num+=1\r\n",
    "    \r\n",
    "    #condition to break out of loop\r\n",
    "    else:\r\n",
    "        exist = False\r\n",
    "\r\n",
    "author_set = set(authors)\r\n",
    "\r\n"
   ],
   "outputs": [
    {
     "output_type": "execute_result",
     "data": {
      "text/plain": [
       "'\\n\\n#number variable for looping through the pages\\npage_num = 1\\n\\nexist = True\\n\\nauthors = []\\n\\n#do a while loop to loop through all pages while quote is true\\nwhile exist:\\n    \\n    # create a base url \\n    base_url = f\"https://quotes.toscrape.com/page/{page_num}/\"\\n\\n    ask = requests.get(base_url)\\n    soup = bs4.BeautifulSoup(ask.text, \\'lxml\\')\\n\\n    #check if quote class exists or not\\n    if len(soup.select(\\'.quote\\')) != 0:\\n\\n        authors_class = soup.select(\".author\")\\n        for name in authors_class:\\n            authors.append(name.text)\\n\\n        page_num+=1\\n    \\n    #condition to break out of loop\\n    else:\\n        exist = False\\n\\nauthor_set = set(authors)\\n\\n'"
      ]
     },
     "metadata": {},
     "execution_count": 96
    }
   ],
   "metadata": {}
  },
  {
   "cell_type": "code",
   "execution_count": 97,
   "source": [
    "author_set"
   ],
   "outputs": [
    {
     "output_type": "execute_result",
     "data": {
      "text/plain": [
       "{'Albert Einstein',\n",
       " 'Alexandre Dumas fils',\n",
       " 'Alfred Tennyson',\n",
       " 'Allen Saunders',\n",
       " 'André Gide',\n",
       " 'Ayn Rand',\n",
       " 'Bob Marley',\n",
       " 'C.S. Lewis',\n",
       " 'Charles Bukowski',\n",
       " 'Charles M. Schulz',\n",
       " 'Douglas Adams',\n",
       " 'Dr. Seuss',\n",
       " 'E.E. Cummings',\n",
       " 'Eleanor Roosevelt',\n",
       " 'Elie Wiesel',\n",
       " 'Ernest Hemingway',\n",
       " 'Friedrich Nietzsche',\n",
       " 'Garrison Keillor',\n",
       " 'George Bernard Shaw',\n",
       " 'George Carlin',\n",
       " 'George Eliot',\n",
       " 'George R.R. Martin',\n",
       " 'Harper Lee',\n",
       " 'Haruki Murakami',\n",
       " 'Helen Keller',\n",
       " 'J.D. Salinger',\n",
       " 'J.K. Rowling',\n",
       " 'J.M. Barrie',\n",
       " 'J.R.R. Tolkien',\n",
       " 'James Baldwin',\n",
       " 'Jane Austen',\n",
       " 'Jim Henson',\n",
       " 'Jimi Hendrix',\n",
       " 'John Lennon',\n",
       " 'Jorge Luis Borges',\n",
       " 'Khaled Hosseini',\n",
       " \"Madeleine L'Engle\",\n",
       " 'Marilyn Monroe',\n",
       " 'Mark Twain',\n",
       " 'Martin Luther King Jr.',\n",
       " 'Mother Teresa',\n",
       " 'Pablo Neruda',\n",
       " 'Ralph Waldo Emerson',\n",
       " 'Stephenie Meyer',\n",
       " 'Steve Martin',\n",
       " 'Suzanne Collins',\n",
       " 'Terry Pratchett',\n",
       " 'Thomas A. Edison',\n",
       " 'W.C. Fields',\n",
       " 'William Nicholson'}"
      ]
     },
     "metadata": {},
     "execution_count": 97
    }
   ],
   "metadata": {}
  },
  {
   "cell_type": "code",
   "execution_count": 98,
   "source": [
    "authors[-1]"
   ],
   "outputs": [
    {
     "output_type": "execute_result",
     "data": {
      "text/plain": [
       "'George R.R. Martin'"
      ]
     },
     "metadata": {},
     "execution_count": 98
    }
   ],
   "metadata": {}
  },
  {
   "cell_type": "code",
   "execution_count": 135,
   "source": [
    "x_url = \"https://quotes.toscrape.com/author/Albert-Einstein/\"\r\n",
    "x_ask = requests.get(x_url)\r\n",
    "x_soup = bs4.BeautifulSoup(x_ask.text, 'lxml')\r\n",
    "x_soup.select('.author-born-location')[0].text.strip('in ')"
   ],
   "outputs": [
    {
     "output_type": "execute_result",
     "data": {
      "text/plain": [
       "'Ulm, Germany'"
      ]
     },
     "metadata": {},
     "execution_count": 135
    }
   ],
   "metadata": {}
  },
  {
   "cell_type": "markdown",
   "source": [
    "### Writing a function to obtain the date of birth of a particular author\r\n"
   ],
   "metadata": {}
  },
  {
   "cell_type": "markdown",
   "source": [
    "#### first write a function to create a dictionary of all authors and the link to their bio"
   ],
   "metadata": {}
  },
  {
   "cell_type": "code",
   "execution_count": 136,
   "source": [
    "def author_bio(page):\r\n",
    "\r\n",
    "    base = \"https://quotes.toscrape.com\"\r\n",
    "\r\n",
    "    new_url = base+page\r\n",
    "\r\n",
    "    bio_request = requests.get(new_url)\r\n",
    "    bio_soup = bs4.BeautifulSoup(bio_request.text, 'lxml')\r\n",
    "\r\n",
    "    bio_date = bio_soup.select('.author-born-date')[0].text\r\n",
    "    bio_location = bio_soup.select('.author-born-location')[0].text.strip('in ')\r\n",
    "\r\n",
    "    return [bio_date, bio_location]\r\n",
    "\r\n"
   ],
   "outputs": [],
   "metadata": {}
  },
  {
   "cell_type": "code",
   "execution_count": 137,
   "source": [
    "def author_info():\r\n",
    "    \r\n",
    "    page_num = 1\r\n",
    "\r\n",
    "    exist = True\r\n",
    "\r\n",
    "    authors = []\r\n",
    "    author_dict = {}\r\n",
    "\r\n",
    "    #do a while loop to loop through all pages while quote is true\r\n",
    "    while exist:\r\n",
    "\r\n",
    "        #print(page_num)\r\n",
    "        \r\n",
    "        # create a base url \r\n",
    "        base_url = f\"https://quotes.toscrape.com/page/{page_num}/\"\r\n",
    "\r\n",
    "        ask = requests.get(base_url)\r\n",
    "        soup = bs4.BeautifulSoup(ask.text, 'lxml')\r\n",
    "\r\n",
    "        check_page = soup.select('.quote')\r\n",
    "        #check if quote class exists or not\r\n",
    "        if len(check_page) != 0:\r\n",
    "\r\n",
    "            authors_class = soup.select(\".author\")\r\n",
    "            for name in authors_class:\r\n",
    "                authors.append(name.text)\r\n",
    "                ind = authors_class.index(name)\r\n",
    "                bio_page = check_page[ind].a['href']\r\n",
    "                bio_info = author_bio(bio_page)\r\n",
    "                author_dict[name.text] = bio_info\r\n",
    "            page_num+=1\r\n",
    "        \r\n",
    "        #condition to break out of loop\r\n",
    "        else:\r\n",
    "            exist = False\r\n",
    "\r\n",
    "    author_set = set(authors)\r\n",
    "\r\n",
    "    return author_dict"
   ],
   "outputs": [],
   "metadata": {}
  },
  {
   "cell_type": "code",
   "execution_count": 123,
   "source": [
    "author_info()"
   ],
   "outputs": [
    {
     "output_type": "execute_result",
     "data": {
      "text/plain": [
       "{'Albert Einstein': ['March 14, 1879', 'in Ulm, Germany'],\n",
       " 'J.K. Rowling': ['July 31, 1965',\n",
       "  'in Yate, South Gloucestershire, England, The United Kingdom'],\n",
       " 'Jane Austen': ['December 16, 1775',\n",
       "  'in Steventon Rectory, Hampshire, The United Kingdom'],\n",
       " 'Marilyn Monroe': ['June 01, 1926', 'in The United States'],\n",
       " 'André Gide': ['November 22, 1869', 'in Paris, France'],\n",
       " 'Thomas A. Edison': ['February 11, 1847',\n",
       "  'in Milan, Ohio, The United States'],\n",
       " 'Eleanor Roosevelt': ['October 11, 1884', 'in The United States'],\n",
       " 'Steve Martin': ['August 14, 1945', 'in Waco, Texas, The United States'],\n",
       " 'Bob Marley': ['February 06, 1945', 'in Nine Mile, Saint Ann, Jamaica'],\n",
       " 'Dr. Seuss': ['March 02, 1904', 'in Springfield, MA, The United States'],\n",
       " 'Douglas Adams': ['March 11, 1952',\n",
       "  'in Cambridge, England, The United Kingdom'],\n",
       " 'Elie Wiesel': ['September 30, 1928', 'in Sighet, Romania'],\n",
       " 'Friedrich Nietzsche': ['October 15, 1844',\n",
       "  'in Röcken bei Lützen, Prussian Province of Saxony, Germany'],\n",
       " 'Mark Twain': ['November 30, 1835',\n",
       "  'in Florida, Missouri, The United States'],\n",
       " 'Allen Saunders': ['April 24, 1899', 'in The United States'],\n",
       " 'Pablo Neruda': ['July 12, 1904', 'in Parral, Chile'],\n",
       " 'Ralph Waldo Emerson': ['May 25, 1803',\n",
       "  'in Boston, Massachusetts, The United States'],\n",
       " 'Mother Teresa': ['August 26, 1910',\n",
       "  'in Skopje, Macedonia, the Former Yugoslav Republic of'],\n",
       " 'Garrison Keillor': ['August 07, 1942',\n",
       "  'in Anoka, Minnesota, The United States'],\n",
       " 'Jim Henson': ['September 24, 1936',\n",
       "  'in Greenville, Mississippi, The United States'],\n",
       " 'Charles M. Schulz': ['November 26, 1922',\n",
       "  'in Minneapolis, MN, The United States'],\n",
       " 'William Nicholson': ['January 12, 1948',\n",
       "  'in Lewes, Sussex, The United Kingdom'],\n",
       " 'Jorge Luis Borges': ['August 24, 1899', 'in Buenos Aires, Argentina'],\n",
       " 'George Eliot': ['November 22, 1819',\n",
       "  'in South Farm, Arbury Hall, Nuneaton, Warwickshire, The United Kingdom'],\n",
       " 'George R.R. Martin': ['September 20, 1948',\n",
       "  'in Bayonne, New Jersey, The United States'],\n",
       " 'C.S. Lewis': ['November 29, 1898', 'in Belfast, Ireland'],\n",
       " 'Martin Luther King Jr.': ['January 15, 1929',\n",
       "  'in Atlanta, Georgia, The United States'],\n",
       " 'James Baldwin': ['August 02, 1924',\n",
       "  'in Harlem, New York, The United States'],\n",
       " 'Haruki Murakami': ['January 12, 1949', 'in Kyoto, Japan'],\n",
       " 'Alexandre Dumas fils': ['July 27, 1824', 'in Paris, France'],\n",
       " 'Stephenie Meyer': ['December 24, 1973', 'in Connecticut, The United States'],\n",
       " 'Ernest Hemingway': ['July 21, 1899',\n",
       "  'in Oak Park, Illinois, The United States'],\n",
       " 'Helen Keller': ['June 27, 1880', 'in Tuscumbia, Alabama, The United States'],\n",
       " 'George Bernard Shaw': ['July 26, 1856', 'in Dublin, Ireland'],\n",
       " 'Charles Bukowski': ['August 16, 1920', 'in Andernach, Germany'],\n",
       " 'Suzanne Collins': ['August 11, 1962',\n",
       "  'in Hartford, Connecticut, The United States'],\n",
       " 'J.R.R. Tolkien': ['January 03, 1892',\n",
       "  'in Bloemfontein, Mangaung, Free State, South Africa'],\n",
       " 'Alfred Tennyson': ['August 06, 1809',\n",
       "  'in Somersby, Lincolnshire, The United Kingdom'],\n",
       " 'Terry Pratchett': ['April 28, 1948',\n",
       "  'in Beaconsfield, Buckinghamshire, England, The United Kingdom'],\n",
       " 'J.D. Salinger': ['January 01, 1919',\n",
       "  'in Manhattan, New York, The United States'],\n",
       " 'George Carlin': ['May 12, 1937', 'in New York, New York, The United States'],\n",
       " 'John Lennon': ['October 09, 1940',\n",
       "  'in Liverpool, England, The United Kingdom'],\n",
       " 'W.C. Fields': ['January 29, 1880',\n",
       "  'in Darby, Pennsylvania, The United States'],\n",
       " 'Ayn Rand': ['February 02, 1905', 'in St. Petersburg, Russian Federation'],\n",
       " 'Jimi Hendrix': ['November 27, 1942',\n",
       "  'in Seattle, Washington, The United States'],\n",
       " 'J.M. Barrie': ['May 09, 1860',\n",
       "  'in Kirriemuir, Angus, Scotland, The United Kingdom'],\n",
       " 'E.E. Cummings': ['October 14, 1894',\n",
       "  'in Cambridge, Massachusetts, The United States'],\n",
       " 'Khaled Hosseini': ['March 04, 1965', 'in Kabul, Afghanistan'],\n",
       " 'Harper Lee': ['April 28, 1926',\n",
       "  'in Monroeville, Alabama, The United States'],\n",
       " \"Madeleine L'Engle\": ['November 29, 1918',\n",
       "  'in New York City, New York, The United States']}"
      ]
     },
     "metadata": {},
     "execution_count": 123
    }
   ],
   "metadata": {}
  },
  {
   "cell_type": "code",
   "execution_count": 138,
   "source": [
    "quote_authors = author_info()"
   ],
   "outputs": [],
   "metadata": {}
  },
  {
   "cell_type": "code",
   "execution_count": 139,
   "source": [
    "author_df = pd.DataFrame.from_dict(quote_authors).transpose().reset_index()"
   ],
   "outputs": [],
   "metadata": {}
  },
  {
   "cell_type": "code",
   "execution_count": 140,
   "source": [
    "author_df.columns = ['Author', 'Date of Birth', 'Location']"
   ],
   "outputs": [],
   "metadata": {}
  },
  {
   "cell_type": "code",
   "execution_count": 144,
   "source": [
    "author_df.head()"
   ],
   "outputs": [
    {
     "output_type": "execute_result",
     "data": {
      "text/html": [
       "<div>\n",
       "<style scoped>\n",
       "    .dataframe tbody tr th:only-of-type {\n",
       "        vertical-align: middle;\n",
       "    }\n",
       "\n",
       "    .dataframe tbody tr th {\n",
       "        vertical-align: top;\n",
       "    }\n",
       "\n",
       "    .dataframe thead th {\n",
       "        text-align: right;\n",
       "    }\n",
       "</style>\n",
       "<table border=\"1\" class=\"dataframe\">\n",
       "  <thead>\n",
       "    <tr style=\"text-align: right;\">\n",
       "      <th></th>\n",
       "      <th>Author</th>\n",
       "      <th>Date of Birth</th>\n",
       "      <th>Location</th>\n",
       "    </tr>\n",
       "  </thead>\n",
       "  <tbody>\n",
       "    <tr>\n",
       "      <th>0</th>\n",
       "      <td>Albert Einstein</td>\n",
       "      <td>March 14, 1879</td>\n",
       "      <td>Ulm, Germany</td>\n",
       "    </tr>\n",
       "    <tr>\n",
       "      <th>1</th>\n",
       "      <td>J.K. Rowling</td>\n",
       "      <td>July 31, 1965</td>\n",
       "      <td>Yate, South Gloucestershire, England, The Unit...</td>\n",
       "    </tr>\n",
       "    <tr>\n",
       "      <th>2</th>\n",
       "      <td>Jane Austen</td>\n",
       "      <td>December 16, 1775</td>\n",
       "      <td>Steventon Rectory, Hampshire, The United Kingdom</td>\n",
       "    </tr>\n",
       "    <tr>\n",
       "      <th>3</th>\n",
       "      <td>Marilyn Monroe</td>\n",
       "      <td>June 01, 1926</td>\n",
       "      <td>The United States</td>\n",
       "    </tr>\n",
       "    <tr>\n",
       "      <th>4</th>\n",
       "      <td>André Gide</td>\n",
       "      <td>November 22, 1869</td>\n",
       "      <td>Paris, France</td>\n",
       "    </tr>\n",
       "  </tbody>\n",
       "</table>\n",
       "</div>"
      ],
      "text/plain": [
       "            Author      Date of Birth  \\\n",
       "0  Albert Einstein     March 14, 1879   \n",
       "1     J.K. Rowling      July 31, 1965   \n",
       "2      Jane Austen  December 16, 1775   \n",
       "3   Marilyn Monroe      June 01, 1926   \n",
       "4       André Gide  November 22, 1869   \n",
       "\n",
       "                                            Location  \n",
       "0                                       Ulm, Germany  \n",
       "1  Yate, South Gloucestershire, England, The Unit...  \n",
       "2   Steventon Rectory, Hampshire, The United Kingdom  \n",
       "3                                  The United States  \n",
       "4                                      Paris, France  "
      ]
     },
     "metadata": {},
     "execution_count": 144
    }
   ],
   "metadata": {}
  },
  {
   "cell_type": "code",
   "execution_count": null,
   "source": [],
   "outputs": [],
   "metadata": {}
  }
 ],
 "metadata": {
  "orig_nbformat": 4,
  "language_info": {
   "name": "python",
   "version": "3.8.5",
   "mimetype": "text/x-python",
   "codemirror_mode": {
    "name": "ipython",
    "version": 3
   },
   "pygments_lexer": "ipython3",
   "nbconvert_exporter": "python",
   "file_extension": ".py"
  },
  "kernelspec": {
   "name": "python3",
   "display_name": "Python 3.8.5 64-bit ('base': conda)"
  },
  "interpreter": {
   "hash": "292b1562d4bdc47ba6d004c6351da27ab8c644f78d36579569cbbc090f6dacf9"
  }
 },
 "nbformat": 4,
 "nbformat_minor": 2
}