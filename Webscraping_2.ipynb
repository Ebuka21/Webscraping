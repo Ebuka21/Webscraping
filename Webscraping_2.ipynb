{
 "cells": [
  {
   "cell_type": "markdown",
   "source": [
    "### Webscraping script\r\n",
    "\r\n",
    "#### This script will scrape information from https://quotes.toscrape.com/ website\r\n",
    "\r\n",
    "#### Different tasks will be done which will be described in the notebook"
   ],
   "metadata": {}
  },
  {
   "cell_type": "code",
   "execution_count": 1,
   "source": [
    "# import necessary packages\r\n",
    "\r\n",
    "import bs4\r\n",
    "import requests\r\n",
    "import lxml\r\n",
    "import pandas as pd"
   ],
   "outputs": [],
   "metadata": {}
  },
  {
   "cell_type": "markdown",
   "source": [
    "### Obtain unique names of all the authors on the first page"
   ],
   "metadata": {}
  },
  {
   "cell_type": "code",
   "execution_count": 2,
   "source": [
    "# obtain the text from the website and store to be read\r\n",
    "\r\n",
    "url_first = \"https://quotes.toscrape.com/\"\r\n",
    "\r\n",
    "ask = requests.get(url_first)\r\n",
    "\r\n",
    "soup = bs4.BeautifulSoup(ask.text, 'lxml')"
   ],
   "outputs": [],
   "metadata": {}
  },
  {
   "cell_type": "code",
   "execution_count": 3,
   "source": [
    "# obtain author class\r\n",
    "\r\n",
    "author_class = soup.select(\".author\")"
   ],
   "outputs": [],
   "metadata": {}
  },
  {
   "cell_type": "code",
   "execution_count": 7,
   "source": [
    "# extra author names\r\n",
    "\r\n",
    "author_name = []\r\n",
    "\r\n",
    "for name in author_class:\r\n",
    "    author_name.append(name.text)\r\n",
    "\r\n",
    "unique_name = set(author_name)"
   ],
   "outputs": [],
   "metadata": {}
  },
  {
   "cell_type": "markdown",
   "source": [
    "### Create a list of all the quotes on the first page"
   ],
   "metadata": {}
  },
  {
   "cell_type": "code",
   "execution_count": 14,
   "source": [
    "words = soup.select(\".text\")\r\n",
    "quote = []\r\n",
    "\r\n",
    "for word in words:\r\n",
    "    quote.append(word.text)\r\n",
    "\r\n",
    "quote"
   ],
   "outputs": [
    {
     "output_type": "execute_result",
     "data": {
      "text/plain": [
       "['“The world as we have created it is a process of our thinking. It cannot be changed without changing our thinking.”',\n",
       " '“It is our choices, Harry, that show what we truly are, far more than our abilities.”',\n",
       " '“There are only two ways to live your life. One is as though nothing is a miracle. The other is as though everything is a miracle.”',\n",
       " '“The person, be it gentleman or lady, who has not pleasure in a good novel, must be intolerably stupid.”',\n",
       " \"“Imperfection is beauty, madness is genius and it's better to be absolutely ridiculous than absolutely boring.”\",\n",
       " '“Try not to become a man of success. Rather become a man of value.”',\n",
       " '“It is better to be hated for what you are than to be loved for what you are not.”',\n",
       " \"“I have not failed. I've just found 10,000 ways that won't work.”\",\n",
       " \"“A woman is like a tea bag; you never know how strong it is until it's in hot water.”\",\n",
       " '“A day without sunshine is like, you know, night.”']"
      ]
     },
     "metadata": {},
     "execution_count": 14
    }
   ],
   "metadata": {}
  },
  {
   "cell_type": "markdown",
   "source": [
    "### Obtain the top ten tags as mentioned on the page"
   ],
   "metadata": {}
  },
  {
   "cell_type": "code",
   "execution_count": 26,
   "source": [
    "tag = soup.select(\".tag-item\")\r\n",
    "\r\n",
    "for x in range(len(tag)):\r\n",
    "    print(tag[x].a.text)"
   ],
   "outputs": [
    {
     "output_type": "stream",
     "name": "stdout",
     "text": [
      "love\n",
      "inspirational\n",
      "life\n",
      "humor\n",
      "books\n",
      "reading\n",
      "friendship\n",
      "friends\n",
      "truth\n",
      "simile\n"
     ]
    }
   ],
   "metadata": {}
  },
  {
   "cell_type": "code",
   "execution_count": null,
   "source": [],
   "outputs": [],
   "metadata": {}
  }
 ],
 "metadata": {
  "orig_nbformat": 4,
  "language_info": {
   "name": "python",
   "version": "3.8.5",
   "mimetype": "text/x-python",
   "codemirror_mode": {
    "name": "ipython",
    "version": 3
   },
   "pygments_lexer": "ipython3",
   "nbconvert_exporter": "python",
   "file_extension": ".py"
  },
  "kernelspec": {
   "name": "python3",
   "display_name": "Python 3.8.5 64-bit ('base': conda)"
  },
  "interpreter": {
   "hash": "292b1562d4bdc47ba6d004c6351da27ab8c644f78d36579569cbbc090f6dacf9"
  }
 },
 "nbformat": 4,
 "nbformat_minor": 2
}